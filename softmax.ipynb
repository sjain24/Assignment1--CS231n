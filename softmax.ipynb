{
 "cells": [
  {
   "cell_type": "markdown",
   "metadata": {
    "tags": [
     "pdf-title"
    ]
   },
   "source": [
    "# Softmax exercise\n",
    "\n",
    "*Complete and hand in this completed worksheet (including its outputs and any supporting code outside of the worksheet) with your assignment submission. For more details see the [assignments page](http://vision.stanford.edu/teaching/cs231n/assignments.html) on the course website.*\n",
    "\n",
    "This exercise is analogous to the SVM exercise. You will:\n",
    "\n",
    "- implement a fully-vectorized **loss function** for the Softmax classifier\n",
    "- implement the fully-vectorized expression for its **analytic gradient**\n",
    "- **check your implementation** with numerical gradient\n",
    "- use a validation set to **tune the learning rate and regularization** strength\n",
    "- **optimize** the loss function with **SGD**\n",
    "- **visualize** the final learned weights\n"
   ]
  },
  {
   "cell_type": "code",
   "execution_count": 1,
   "metadata": {
    "tags": [
     "pdf-ignore"
    ]
   },
   "outputs": [],
   "source": [
    "import random\n",
    "import numpy as np\n",
    "from cs231n.data_utils import load_CIFAR10\n",
    "import matplotlib.pyplot as plt\n",
    "\n",
    "%matplotlib inline\n",
    "plt.rcParams['figure.figsize'] = (10.0, 8.0) # set default size of plots\n",
    "plt.rcParams['image.interpolation'] = 'nearest'\n",
    "plt.rcParams['image.cmap'] = 'gray'\n",
    "\n",
    "# for auto-reloading extenrnal modules\n",
    "# see http://stackoverflow.com/questions/1907993/autoreload-of-modules-in-ipython\n",
    "%load_ext autoreload\n",
    "%autoreload 2"
   ]
  },
  {
   "cell_type": "code",
   "execution_count": 2,
   "metadata": {
    "tags": [
     "pdf-ignore"
    ]
   },
   "outputs": [
    {
     "name": "stdout",
     "output_type": "stream",
     "text": [
      "Train data shape:  (49000, 3073)\n",
      "Train labels shape:  (49000,)\n",
      "Validation data shape:  (1000, 3073)\n",
      "Validation labels shape:  (1000,)\n",
      "Test data shape:  (1000, 3073)\n",
      "Test labels shape:  (1000,)\n",
      "dev data shape:  (500, 3073)\n",
      "dev labels shape:  (500,)\n"
     ]
    }
   ],
   "source": [
    "def get_CIFAR10_data(num_training=49000, num_validation=1000, num_test=1000, num_dev=500):\n",
    "    \"\"\"\n",
    "    Load the CIFAR-10 dataset from disk and perform preprocessing to prepare\n",
    "    it for the linear classifier. These are the same steps as we used for the\n",
    "    SVM, but condensed to a single function.  \n",
    "    \"\"\"\n",
    "    # Load the raw CIFAR-10 data\n",
    "    cifar10_dir = 'cs231n/datasets/cifar-10-batches-py'\n",
    "    \n",
    "    # Cleaning up variables to prevent loading data multiple times (which may cause memory issue)\n",
    "    try:\n",
    "       del X_train, y_train\n",
    "       del X_test, y_test\n",
    "       print('Clear previously loaded data.')\n",
    "    except:\n",
    "       pass\n",
    "\n",
    "    X_train, y_train, X_test, y_test = load_CIFAR10(cifar10_dir)\n",
    "    \n",
    "    # subsample the data\n",
    "    mask = list(range(num_training, num_training + num_validation))\n",
    "    X_val = X_train[mask]\n",
    "    y_val = y_train[mask]\n",
    "    mask = list(range(num_training))\n",
    "    X_train = X_train[mask]\n",
    "    y_train = y_train[mask]\n",
    "    mask = list(range(num_test))\n",
    "    X_test = X_test[mask]\n",
    "    y_test = y_test[mask]\n",
    "    mask = np.random.choice(num_training, num_dev, replace=False)\n",
    "    X_dev = X_train[mask]\n",
    "    y_dev = y_train[mask]\n",
    "    \n",
    "    # Preprocessing: reshape the image data into rows\n",
    "    X_train = np.reshape(X_train, (X_train.shape[0], -1))\n",
    "    X_val = np.reshape(X_val, (X_val.shape[0], -1))\n",
    "    X_test = np.reshape(X_test, (X_test.shape[0], -1))\n",
    "    X_dev = np.reshape(X_dev, (X_dev.shape[0], -1))\n",
    "    \n",
    "    # Normalize the data: subtract the mean image\n",
    "    mean_image = np.mean(X_train, axis = 0)\n",
    "    X_train -= mean_image\n",
    "    X_val -= mean_image\n",
    "    X_test -= mean_image\n",
    "    X_dev -= mean_image\n",
    "    \n",
    "    # add bias dimension and transform into columns\n",
    "    X_train = np.hstack([X_train, np.ones((X_train.shape[0], 1))])\n",
    "    X_val = np.hstack([X_val, np.ones((X_val.shape[0], 1))])\n",
    "    X_test = np.hstack([X_test, np.ones((X_test.shape[0], 1))])\n",
    "    X_dev = np.hstack([X_dev, np.ones((X_dev.shape[0], 1))])\n",
    "    \n",
    "    return X_train, y_train, X_val, y_val, X_test, y_test, X_dev, y_dev\n",
    "\n",
    "\n",
    "# Invoke the above function to get our data.\n",
    "X_train, y_train, X_val, y_val, X_test, y_test, X_dev, y_dev = get_CIFAR10_data()\n",
    "print('Train data shape: ', X_train.shape)\n",
    "print('Train labels shape: ', y_train.shape)\n",
    "print('Validation data shape: ', X_val.shape)\n",
    "print('Validation labels shape: ', y_val.shape)\n",
    "print('Test data shape: ', X_test.shape)\n",
    "print('Test labels shape: ', y_test.shape)\n",
    "print('dev data shape: ', X_dev.shape)\n",
    "print('dev labels shape: ', y_dev.shape)"
   ]
  },
  {
   "cell_type": "markdown",
   "metadata": {},
   "source": [
    "## Softmax Classifier\n",
    "\n",
    "Your code for this section will all be written inside `cs231n/classifiers/softmax.py`.\n"
   ]
  },
  {
   "cell_type": "code",
   "execution_count": 3,
   "metadata": {},
   "outputs": [
    {
     "name": "stdout",
     "output_type": "stream",
     "text": [
      "loss: 2.339474\n",
      "sanity check: 2.302585\n"
     ]
    }
   ],
   "source": [
    "# First implement the naive softmax loss function with nested loops.\n",
    "# Open the file cs231n/classifiers/softmax.py and implement the\n",
    "# softmax_loss_naive function.\n",
    "\n",
    "from cs231n.classifiers.softmax import softmax_loss_naive\n",
    "import time\n",
    "\n",
    "# Generate a random softmax weight matrix and use it to compute the loss.\n",
    "W = np.random.randn(3073, 10) * 0.0001\n",
    "loss, grad = softmax_loss_naive(W, X_dev, y_dev, 0.0)\n",
    "\n",
    "# As a rough sanity check, our loss should be something close to -log(0.1).\n",
    "print('loss: %f' % loss)\n",
    "print('sanity check: %f' % (-np.log(0.1)))"
   ]
  },
  {
   "cell_type": "markdown",
   "metadata": {
    "tags": [
     "pdf-inline"
    ]
   },
   "source": [
    "**Inline Question 1**\n",
    "\n",
    "Why do we expect our loss to be close to -log(0.1)? Explain briefly.**\n",
    "\n",
    "$\\color{blue}{\\textit Your Answer:}$ *Fill this in* \n",
    "\n"
   ]
  },
  {
   "cell_type": "code",
   "execution_count": 4,
   "metadata": {},
   "outputs": [
    {
     "name": "stdout",
     "output_type": "stream",
     "text": [
      "numerical: 3.100473 analytic: 3.100473, relative error: 1.060524e-08\n",
      "numerical: -2.327716 analytic: -2.327716, relative error: 9.010282e-09\n",
      "numerical: -2.206801 analytic: -2.206802, relative error: 2.420048e-08\n",
      "numerical: -0.253030 analytic: -0.253030, relative error: 3.866611e-08\n",
      "numerical: -2.917461 analytic: -2.917461, relative error: 1.448532e-08\n",
      "numerical: -1.704352 analytic: -1.704352, relative error: 1.310576e-08\n",
      "numerical: 1.352017 analytic: 1.352017, relative error: 3.094443e-08\n",
      "numerical: 0.650830 analytic: 0.650830, relative error: 1.411098e-08\n",
      "numerical: -2.164868 analytic: -2.164868, relative error: 2.264299e-09\n",
      "numerical: 0.992263 analytic: 0.992263, relative error: 1.143424e-08\n",
      "numerical: -2.152410 analytic: -2.152410, relative error: 8.055428e-09\n",
      "numerical: 3.696891 analytic: 3.696891, relative error: 2.934670e-08\n",
      "numerical: 0.477729 analytic: 0.477729, relative error: 6.330733e-08\n",
      "numerical: 2.111550 analytic: 2.111550, relative error: 4.946694e-09\n",
      "numerical: 0.763179 analytic: 0.763179, relative error: 1.222155e-08\n",
      "numerical: 2.363082 analytic: 2.363082, relative error: 1.461176e-08\n",
      "numerical: -1.493923 analytic: -1.493923, relative error: 4.321972e-08\n",
      "numerical: 1.891585 analytic: 1.891584, relative error: 2.077109e-08\n",
      "numerical: -1.032152 analytic: -1.032152, relative error: 7.913534e-11\n",
      "numerical: 0.734353 analytic: 0.734352, relative error: 1.226315e-07\n"
     ]
    }
   ],
   "source": [
    "# Complete the implementation of softmax_loss_naive and implement a (naive)\n",
    "# version of the gradient that uses nested loops.\n",
    "loss, grad = softmax_loss_naive(W, X_dev, y_dev, 0.0)\n",
    "\n",
    "# As we did for the SVM, use numeric gradient checking as a debugging tool.\n",
    "# The numeric gradient should be close to the analytic gradient.\n",
    "from cs231n.gradient_check import grad_check_sparse\n",
    "f = lambda w: softmax_loss_naive(w, X_dev, y_dev, 0.0)[0]\n",
    "grad_numerical = grad_check_sparse(f, W, grad, 10)\n",
    "\n",
    "# similar to SVM case, do another gradient check with regularization\n",
    "loss, grad = softmax_loss_naive(W, X_dev, y_dev, 5e1)\n",
    "f = lambda w: softmax_loss_naive(w, X_dev, y_dev, 5e1)[0]\n",
    "grad_numerical = grad_check_sparse(f, W, grad, 10)"
   ]
  },
  {
   "cell_type": "code",
   "execution_count": 5,
   "metadata": {},
   "outputs": [
    {
     "name": "stdout",
     "output_type": "stream",
     "text": [
      "naive loss: 2.339474e+00 computed in 0.145608s\n",
      "vectorized loss: 2.339474e+00 computed in 0.006984s\n",
      "Loss difference: 0.000000\n",
      "Gradient difference: 0.000000\n"
     ]
    }
   ],
   "source": [
    "# Now that we have a naive implementation of the softmax loss function and its gradient,\n",
    "# implement a vectorized version in softmax_loss_vectorized.\n",
    "# The two versions should compute the same results, but the vectorized version should be\n",
    "# much faster.\n",
    "tic = time.time()\n",
    "loss_naive, grad_naive = softmax_loss_naive(W, X_dev, y_dev, 0.000005)\n",
    "toc = time.time()\n",
    "print('naive loss: %e computed in %fs' % (loss_naive, toc - tic))\n",
    "\n",
    "from cs231n.classifiers.softmax import softmax_loss_vectorized\n",
    "tic = time.time()\n",
    "loss_vectorized, grad_vectorized = softmax_loss_vectorized(W, X_dev, y_dev, 0.000005)\n",
    "toc = time.time()\n",
    "print('vectorized loss: %e computed in %fs' % (loss_vectorized, toc - tic))\n",
    "\n",
    "# As we did for the SVM, we use the Frobenius norm to compare the two versions\n",
    "# of the gradient.\n",
    "grad_difference = np.linalg.norm(grad_naive - grad_vectorized, ord='fro')\n",
    "print('Loss difference: %f' % np.abs(loss_naive - loss_vectorized))\n",
    "print('Gradient difference: %f' % grad_difference)"
   ]
  },
  {
   "cell_type": "code",
   "execution_count": 10,
   "metadata": {
    "id": "tuning",
    "tags": [
     "code"
    ]
   },
   "outputs": [
    {
     "name": "stdout",
     "output_type": "stream",
     "text": [
      "lr 5.000000e-07 reg 5.000000e+03 train accuracy: 0.219245 val accuracy: 0.218000\n",
      "lr 5.000000e-07 reg 1.400000e+04 train accuracy: 0.267306 val accuracy: 0.270000\n",
      "lr 5.000000e-07 reg 2.300000e+04 train accuracy: 0.306000 val accuracy: 0.320000\n",
      "lr 5.000000e-07 reg 3.200000e+04 train accuracy: 0.314551 val accuracy: 0.327000\n",
      "lr 5.000000e-07 reg 4.100000e+04 train accuracy: 0.323102 val accuracy: 0.346000\n",
      "lr 5.000000e-07 reg 5.000000e+04 train accuracy: 0.303939 val accuracy: 0.321000\n",
      "lr 1.400000e-06 reg 5.000000e+03 train accuracy: 0.321327 val accuracy: 0.304000\n",
      "lr 1.400000e-06 reg 1.400000e+04 train accuracy: 0.329265 val accuracy: 0.344000\n",
      "lr 1.400000e-06 reg 2.300000e+04 train accuracy: 0.332612 val accuracy: 0.344000\n",
      "lr 1.400000e-06 reg 3.200000e+04 train accuracy: 0.314469 val accuracy: 0.328000\n",
      "lr 1.400000e-06 reg 4.100000e+04 train accuracy: 0.302449 val accuracy: 0.314000\n",
      "lr 1.400000e-06 reg 5.000000e+04 train accuracy: 0.274061 val accuracy: 0.280000\n",
      "lr 2.300000e-06 reg 5.000000e+03 train accuracy: 0.337980 val accuracy: 0.333000\n",
      "lr 2.300000e-06 reg 1.400000e+04 train accuracy: 0.325755 val accuracy: 0.340000\n",
      "lr 2.300000e-06 reg 2.300000e+04 train accuracy: 0.305490 val accuracy: 0.323000\n",
      "lr 2.300000e-06 reg 3.200000e+04 train accuracy: 0.281857 val accuracy: 0.291000\n",
      "lr 2.300000e-06 reg 4.100000e+04 train accuracy: 0.264347 val accuracy: 0.276000\n",
      "lr 2.300000e-06 reg 5.000000e+04 train accuracy: 0.274592 val accuracy: 0.277000\n",
      "lr 3.200000e-06 reg 5.000000e+03 train accuracy: 0.348041 val accuracy: 0.362000\n",
      "lr 3.200000e-06 reg 1.400000e+04 train accuracy: 0.296735 val accuracy: 0.319000\n",
      "lr 3.200000e-06 reg 2.300000e+04 train accuracy: 0.289490 val accuracy: 0.298000\n",
      "lr 3.200000e-06 reg 3.200000e+04 train accuracy: 0.275102 val accuracy: 0.264000\n",
      "lr 3.200000e-06 reg 4.100000e+04 train accuracy: 0.282857 val accuracy: 0.294000\n",
      "lr 3.200000e-06 reg 5.000000e+04 train accuracy: 0.262653 val accuracy: 0.283000\n",
      "lr 4.100000e-06 reg 5.000000e+03 train accuracy: 0.337918 val accuracy: 0.343000\n",
      "lr 4.100000e-06 reg 1.400000e+04 train accuracy: 0.305592 val accuracy: 0.311000\n",
      "lr 4.100000e-06 reg 2.300000e+04 train accuracy: 0.235408 val accuracy: 0.255000\n",
      "lr 4.100000e-06 reg 3.200000e+04 train accuracy: 0.245143 val accuracy: 0.246000\n",
      "lr 4.100000e-06 reg 4.100000e+04 train accuracy: 0.254714 val accuracy: 0.263000\n",
      "lr 4.100000e-06 reg 5.000000e+04 train accuracy: 0.223837 val accuracy: 0.224000\n",
      "lr 5.000000e-06 reg 5.000000e+03 train accuracy: 0.329612 val accuracy: 0.322000\n",
      "lr 5.000000e-06 reg 1.400000e+04 train accuracy: 0.220224 val accuracy: 0.252000\n",
      "lr 5.000000e-06 reg 2.300000e+04 train accuracy: 0.241796 val accuracy: 0.236000\n",
      "lr 5.000000e-06 reg 3.200000e+04 train accuracy: 0.147755 val accuracy: 0.152000\n",
      "lr 5.000000e-06 reg 4.100000e+04 train accuracy: 0.166367 val accuracy: 0.170000\n",
      "lr 5.000000e-06 reg 5.000000e+04 train accuracy: 0.177959 val accuracy: 0.182000\n",
      "best validation accuracy achieved during cross-validation: 0.362000\n"
     ]
    }
   ],
   "source": [
    "# Use the validation set to tune hyperparameters (regularization strength and\n",
    "# learning rate). You should experiment with different ranges for the learning\n",
    "# rates and regularization strengths; if you are careful you should be able to\n",
    "# get a classification accuracy of over 0.35 on the validation set.\n",
    "\n",
    "from cs231n.classifiers import Softmax\n",
    "results = {}\n",
    "best_val = -1\n",
    "best_softmax = None\n",
    "\n",
    "################################################################################\n",
    "# TODO:                                                                        #\n",
    "# Use the validation set to set the learning rate and regularization strength. #\n",
    "# This should be identical to the validation that you did for the SVM; save    #\n",
    "# the best trained softmax classifer in best_softmax.                          #\n",
    "################################################################################\n",
    "\n",
    "# Provided as a reference. You may or may not want to change these hyperparameters\n",
    "learning_rates = [5.0e-7, 5.0e-6]\n",
    "regularization_strengths = [5.0e3, 5.0e4]\n",
    "\n",
    "# *****START OF YOUR CODE (DO NOT DELETE/MODIFY THIS LINE)*****\n",
    "lr_gap = (learning_rates[1]-learning_rates[0]) / 5.0\n",
    "rg_gap = (regularization_strengths[1]-regularization_strengths[0]) / 5.0\n",
    "current_lr = learning_rates[0]\n",
    "while current_lr <= learning_rates[1]:\n",
    "    \n",
    "    current_rg = regularization_strengths[0]\n",
    "    \n",
    "    while current_rg <= regularization_strengths[1]:\n",
    "        \n",
    "        classifier = Softmax()\n",
    "        classifier.train(X_train, y_train, learning_rate=current_lr, reg=current_rg)\n",
    "        \n",
    "        yTrain_predict = classifier.predict(X_train)\n",
    "        train_accuracy = np.mean(yTrain_predict == y_train)\n",
    "        \n",
    "        yValidation_predict = classifier.predict(X_val)\n",
    "        val_accuracy = np.mean(yValidation_predict == y_val)\n",
    "        \n",
    "        if best_val < val_accuracy:\n",
    "            best_val = val_accuracy\n",
    "            best_softmax = classifier\n",
    "            \n",
    "        results[(current_lr, current_rg)] = (train_accuracy, val_accuracy)\n",
    "        \n",
    "        current_rg += rg_gap\n",
    "        \n",
    "    current_lr += lr_gap\n",
    "\n",
    "# *****END OF YOUR CODE (DO NOT DELETE/MODIFY THIS LINE)*****\n",
    "    \n",
    "# Print out results.\n",
    "for lr, reg in sorted(results):\n",
    "    train_accuracy, val_accuracy = results[(lr, reg)]\n",
    "    print('lr %e reg %e train accuracy: %f val accuracy: %f' % (\n",
    "                lr, reg, train_accuracy, val_accuracy))\n",
    "    \n",
    "print('best validation accuracy achieved during cross-validation: %f' % best_val)"
   ]
  },
  {
   "cell_type": "code",
   "execution_count": 11,
   "metadata": {
    "id": "test"
   },
   "outputs": [
    {
     "name": "stdout",
     "output_type": "stream",
     "text": [
      "softmax on raw pixels final test set accuracy: 0.356000\n"
     ]
    }
   ],
   "source": [
    "# evaluate on test set\n",
    "# Evaluate the best softmax on test set\n",
    "y_test_pred = best_softmax.predict(X_test)\n",
    "test_accuracy = np.mean(y_test == y_test_pred)\n",
    "print('softmax on raw pixels final test set accuracy: %f' % (test_accuracy, ))"
   ]
  },
  {
   "cell_type": "markdown",
   "metadata": {
    "tags": [
     "pdf-inline"
    ]
   },
   "source": [
    "**Inline Question 2** - *True or False*\n",
    "\n",
    "Suppose the overall training loss is defined as the sum of the per-datapoint loss over all training examples. It is possible to add a new datapoint to a training set that would leave the SVM loss unchanged, but this is not the case with the Softmax classifier loss.\n",
    "\n",
    "$\\color{blue}{\\textit Your Answer:}$\n",
    "\n",
    "\n",
    "$\\color{blue}{\\textit Your Explanation:}$\n",
    "\n"
   ]
  },
  {
   "cell_type": "code",
   "execution_count": 12,
   "metadata": {},
   "outputs": [
    {
     "data": {
      "image/png": "[encoded data removed]",
      "text/plain": [
       "<Figure size 432x288 with 10 Axes>"
      ]
     },
     "metadata": {
      "needs_background": "light"
     },
     "output_type": "display_data"
    }
   ],
   "source": [
    "# Visualize the learned weights for each class\n",
    "w = best_softmax.W[:-1,:] # strip out the bias\n",
    "w = w.reshape(32, 32, 3, 10)\n",
    "\n",
    "w_min, w_max = np.min(w), np.max(w)\n",
    "\n",
    "classes = ['plane', 'car', 'bird', 'cat', 'deer', 'dog', 'frog', 'horse', 'ship', 'truck']\n",
    "for i in range(10):\n",
    "    plt.subplot(2, 5, i + 1)\n",
    "    \n",
    "    # Rescale the weights to be between 0 and 255\n",
    "    wimg = 255.0 * (w[:, :, :, i].squeeze() - w_min) / (w_max - w_min)\n",
    "    plt.imshow(wimg.astype('uint8'))\n",
    "    plt.axis('off')\n",
    "    plt.title(classes[i])"
   ]
  },
  {
   "cell_type": "code",
   "execution_count": null,
   "metadata": {},
   "outputs": [],
   "source": []
  }
 ],
 "metadata": {
  "kernelspec": {
   "display_name": "Python 3",
   "language": "python",
   "name": "python3"
  },
  "language_info": {
   "codemirror_mode": {
    "name": "ipython",
    "version": 3
   },
   "file_extension": ".py",
   "mimetype": "text/x-python",
   "name": "python",
   "nbconvert_exporter": "python",
   "pygments_lexer": "ipython3",
   "version": "3.7.9"
  }
 },
 "nbformat": 4,
 "nbformat_minor": 1
}
